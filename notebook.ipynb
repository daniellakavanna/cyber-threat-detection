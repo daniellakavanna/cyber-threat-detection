{
 "cells": [
  {
   "cell_type": "markdown",
   "id": "d547b11f-1ed0-4d71-9b39-514ba85079ec",
   "metadata": {},
   "source": [
    "![cyber_photo](cyber_photo.jpg)\n",
    "\n",
    "Cyber threats are a growing concern for organizations worldwide. These threats take many forms, including malware, phishing, and denial-of-service (DOS) attacks, compromising sensitive information and disrupting operations. The increasing sophistication and frequency of these attacks make it imperative for organizations to adopt advanced security measures. Traditional threat detection methods often fall short due to their inability to adapt to new and evolving threats. This is where deep learning models come into play.\n",
    "\n",
    "Deep learning models can analyze vast amounts of data and identify patterns that may not be immediately obvious to human analysts. By leveraging these models, organizations can proactively detect and mitigate cyber threats, safeguarding their sensitive information and ensuring operational continuity.\n",
    "\n",
    "As a cybersecurity analyst, you identify and mitigate these threats. In this project, you will design and implement a deep learning model to detect cyber threats. The BETH dataset simulates real-world logs, providing a rich source of information for training and testing your model. The data has already undergone preprocessing, and we have a target label, `sus_label`, indicating whether an event is malicious (1) or benign (0).\n",
    "\n",
    "By successfully developing this model, you will contribute to enhancing cybersecurity measures and protecting organizations from potentially devastating cyber attacks."
   ]
  },
  {
   "cell_type": "markdown",
   "id": "d2967110-9515-4a1b-8ab6-f7bfd5c84d83",
   "metadata": {},
   "source": [
    "\n",
    "### The Data\n",
    "\n",
    "| Column     | Description              |\n",
    "|------------|--------------------------|\n",
    "|`processId`|The unique identifier for the process that generated the event - int64 |\n",
    "|`threadId`|ID for the thread spawning the log - int64|\n",
    "|`parentProcessId`|Label for the process spawning this log - int64|\n",
    "|`userId`|ID of user spawning the log|Numerical - int64|\n",
    "|`mountNamespace`|Mounting restrictions the process log works within - int64|\n",
    "|`argsNum`|Number of arguments passed to the event - int64|\n",
    "|`returnValue`|Value returned from the event log (usually 0) - int64|\n",
    "|`sus_label`|Binary label as suspicous event (1 is suspicious, 0 is not) - int64|\n",
    "\n",
    "More information on the dataset: [BETH dataset](accreditation.md)"
   ]
  },
  {
   "cell_type": "code",
   "execution_count": null,
   "id": "e3121b05-9873-431d-812c-62bceffbf1b3",
   "metadata": {
    "executionCancelledAt": null,
    "executionTime": 54,
    "lastExecutedAt": 1742492691135,
    "lastExecutedByKernel": "1f9d879d-0424-42f5-871a-5cecd8cad653",
    "lastScheduledRunId": null,
    "lastSuccessfullyExecutedCode": "# Import required libraries\nimport pandas as pd\nfrom sklearn.preprocessing import StandardScaler\nimport torch\nimport torch.nn as nn\nimport torch.nn.functional as functional\nfrom torch.utils.data import DataLoader, TensorDataset\nimport torch.optim as optim\nfrom torchmetrics import Accuracy\n# from sklearn.metrics import accuracy_score  # uncomment to use sklearn"
   },
   "outputs": [],
   "source": [
    "# Import required libraries\n",
    "import pandas as pd\n",
    "import sklearn\n",
    "from sklearn.preprocessing import StandardScaler\n",
    "import torch\n",
    "import torch.nn as nn\n",
    "import torch.nn.functional as functional\n",
    "from torch.utils.data import DataLoader, TensorDataset\n",
    "import torch.optim as optim\n",
    "from torchmetrics import Accuracy\n",
    "import torch.optim as optim\n",
    "from torch.optim.lr_scheduler import ReduceLROnPlateau\n",
    "# from sklearn.metrics import accuracy_score  # uncomment to use sklearn"
   ]
  },
  {
   "cell_type": "code",
   "execution_count": 3,
   "id": "08bfe2bf-3132-490e-9c16-9026f82b8d73",
   "metadata": {
    "chartConfig": {
     "bar": {
      "hasRoundedCorners": true,
      "stacked": false
     },
     "type": "bar",
     "version": "v1"
    },
    "executionCancelledAt": null,
    "executionTime": 362,
    "lastExecutedAt": 1742492691497,
    "lastExecutedByKernel": "1f9d879d-0424-42f5-871a-5cecd8cad653",
    "lastScheduledRunId": null,
    "lastSuccessfullyExecutedCode": "# Load preprocessed data\ntrain_df = pd.read_csv('labelled_train.csv')\ntest_df = pd.read_csv('labelled_test.csv')\nval_df = pd.read_csv('labelled_validation.csv')\n\n# View the first 5 rows of training set\ntrain_df.head()",
    "outputsMetadata": {
     "0": {
      "height": 245,
      "tableState": {
       "quickFilterText": ""
      },
      "type": "dataFrame"
     }
    },
    "visualizeDataframe": false
   },
   "outputs": [
    {
     "data": {
      "text/html": [
       "<div>\n",
       "<style scoped>\n",
       "    .dataframe tbody tr th:only-of-type {\n",
       "        vertical-align: middle;\n",
       "    }\n",
       "\n",
       "    .dataframe tbody tr th {\n",
       "        vertical-align: top;\n",
       "    }\n",
       "\n",
       "    .dataframe thead th {\n",
       "        text-align: right;\n",
       "    }\n",
       "</style>\n",
       "<table border=\"1\" class=\"dataframe\">\n",
       "  <thead>\n",
       "    <tr style=\"text-align: right;\">\n",
       "      <th></th>\n",
       "      <th>processId</th>\n",
       "      <th>threadId</th>\n",
       "      <th>parentProcessId</th>\n",
       "      <th>userId</th>\n",
       "      <th>mountNamespace</th>\n",
       "      <th>argsNum</th>\n",
       "      <th>returnValue</th>\n",
       "      <th>sus_label</th>\n",
       "    </tr>\n",
       "  </thead>\n",
       "  <tbody>\n",
       "    <tr>\n",
       "      <th>0</th>\n",
       "      <td>381</td>\n",
       "      <td>7337</td>\n",
       "      <td>1</td>\n",
       "      <td>100</td>\n",
       "      <td>4026532231</td>\n",
       "      <td>5</td>\n",
       "      <td>0</td>\n",
       "      <td>1</td>\n",
       "    </tr>\n",
       "    <tr>\n",
       "      <th>1</th>\n",
       "      <td>381</td>\n",
       "      <td>7337</td>\n",
       "      <td>1</td>\n",
       "      <td>100</td>\n",
       "      <td>4026532231</td>\n",
       "      <td>1</td>\n",
       "      <td>0</td>\n",
       "      <td>1</td>\n",
       "    </tr>\n",
       "    <tr>\n",
       "      <th>2</th>\n",
       "      <td>381</td>\n",
       "      <td>7337</td>\n",
       "      <td>1</td>\n",
       "      <td>100</td>\n",
       "      <td>4026532231</td>\n",
       "      <td>0</td>\n",
       "      <td>0</td>\n",
       "      <td>1</td>\n",
       "    </tr>\n",
       "    <tr>\n",
       "      <th>3</th>\n",
       "      <td>7347</td>\n",
       "      <td>7347</td>\n",
       "      <td>7341</td>\n",
       "      <td>0</td>\n",
       "      <td>4026531840</td>\n",
       "      <td>2</td>\n",
       "      <td>-2</td>\n",
       "      <td>1</td>\n",
       "    </tr>\n",
       "    <tr>\n",
       "      <th>4</th>\n",
       "      <td>7347</td>\n",
       "      <td>7347</td>\n",
       "      <td>7341</td>\n",
       "      <td>0</td>\n",
       "      <td>4026531840</td>\n",
       "      <td>4</td>\n",
       "      <td>0</td>\n",
       "      <td>1</td>\n",
       "    </tr>\n",
       "  </tbody>\n",
       "</table>\n",
       "</div>"
      ],
      "text/plain": [
       "   processId  threadId  parentProcessId  userId  mountNamespace  argsNum  \\\n",
       "0        381      7337                1     100      4026532231        5   \n",
       "1        381      7337                1     100      4026532231        1   \n",
       "2        381      7337                1     100      4026532231        0   \n",
       "3       7347      7347             7341       0      4026531840        2   \n",
       "4       7347      7347             7341       0      4026531840        4   \n",
       "\n",
       "   returnValue  sus_label  \n",
       "0            0          1  \n",
       "1            0          1  \n",
       "2            0          1  \n",
       "3           -2          1  \n",
       "4            0          1  "
      ]
     },
     "execution_count": 3,
     "metadata": {},
     "output_type": "execute_result"
    }
   ],
   "source": [
    "# Load preprocessed data\n",
    "train_df = pd.read_csv('labelled_train.csv')\n",
    "test_df = pd.read_csv('labelled_test.csv')\n",
    "val_df = pd.read_csv('labelled_validation.csv')\n",
    "\n",
    "# View the first 5 rows of training set\n",
    "train_df.head()"
   ]
  },
  {
   "cell_type": "code",
   "execution_count": 4,
   "id": "a8b264e9-bbf0-40ec-9b21-6c167220bb61",
   "metadata": {
    "executionCancelledAt": null,
    "executionTime": 51,
    "lastExecutedAt": 1742492691548,
    "lastExecutedByKernel": "1f9d879d-0424-42f5-871a-5cecd8cad653",
    "lastScheduledRunId": null,
    "lastSuccessfullyExecutedCode": "# Checking the shape of the training data\nprint( f' Number of rows and features for the training dataset: {train_df.shape}' )\nprint( f' Number of rows and features for the test dataset: {test_df.shape}' )\nprint( f' Number of rows and features for the validation dataset: {val_df.shape}')",
    "outputsMetadata": {
     "0": {
      "height": 80,
      "type": "stream"
     }
    }
   },
   "outputs": [
    {
     "name": "stdout",
     "output_type": "stream",
     "text": [
      " Number of rows and features for the training dataset: (763144, 8)\n",
      " Number of rows and features for the test dataset: (188967, 8)\n",
      " Number of rows and features for the validation dataset: (188967, 8)\n"
     ]
    }
   ],
   "source": [
    "# Checking the shape of the training data\n",
    "print( f' Number of rows and features for the training dataset: {train_df.shape}' )\n",
    "print( f' Number of rows and features for the test dataset: {test_df.shape}' )\n",
    "print( f' Number of rows and features for the validation dataset: {val_df.shape}')"
   ]
  },
  {
   "cell_type": "code",
   "execution_count": 5,
   "id": "22da92bd-8764-49db-876a-a6142a05ccd6",
   "metadata": {
    "executionCancelledAt": null,
    "executionTime": 49,
    "lastExecutedAt": 1742492691597,
    "lastExecutedByKernel": "1f9d879d-0424-42f5-871a-5cecd8cad653",
    "lastScheduledRunId": null,
    "lastSuccessfullyExecutedCode": "print(train_df.isnull().sum())",
    "outputsMetadata": {
     "0": {
      "height": 206,
      "type": "stream"
     }
    }
   },
   "outputs": [
    {
     "name": "stdout",
     "output_type": "stream",
     "text": [
      "processId          0\n",
      "threadId           0\n",
      "parentProcessId    0\n",
      "userId             0\n",
      "mountNamespace     0\n",
      "argsNum            0\n",
      "returnValue        0\n",
      "sus_label          0\n",
      "dtype: int64\n"
     ]
    }
   ],
   "source": [
    "print(train_df.isnull().sum())"
   ]
  },
  {
   "cell_type": "code",
   "execution_count": 6,
   "id": "a4a1e42f-22c1-408e-acbc-e21bd95b299d",
   "metadata": {
    "executionCancelledAt": null,
    "executionTime": 50,
    "lastExecutedAt": 1742492691647,
    "lastExecutedByKernel": "1f9d879d-0424-42f5-871a-5cecd8cad653",
    "lastScheduledRunId": null,
    "lastSuccessfullyExecutedCode": "print(test_df.isnull().sum())",
    "outputsMetadata": {
     "0": {
      "height": 206,
      "type": "stream"
     }
    }
   },
   "outputs": [
    {
     "name": "stdout",
     "output_type": "stream",
     "text": [
      "processId          0\n",
      "threadId           0\n",
      "parentProcessId    0\n",
      "userId             0\n",
      "mountNamespace     0\n",
      "argsNum            0\n",
      "returnValue        0\n",
      "sus_label          0\n",
      "dtype: int64\n"
     ]
    }
   ],
   "source": [
    "print(test_df.isnull().sum())"
   ]
  },
  {
   "cell_type": "code",
   "execution_count": 7,
   "id": "5ea50498-94a0-4370-b5e5-b04cd45fa86a",
   "metadata": {
    "executionCancelledAt": null,
    "executionTime": 52,
    "lastExecutedAt": 1742492691699,
    "lastExecutedByKernel": "1f9d879d-0424-42f5-871a-5cecd8cad653",
    "lastScheduledRunId": null,
    "lastSuccessfullyExecutedCode": "print(val_df.isnull().sum())",
    "outputsMetadata": {
     "0": {
      "height": 206,
      "type": "stream"
     }
    }
   },
   "outputs": [
    {
     "name": "stdout",
     "output_type": "stream",
     "text": [
      "processId          0\n",
      "threadId           0\n",
      "parentProcessId    0\n",
      "userId             0\n",
      "mountNamespace     0\n",
      "argsNum            0\n",
      "returnValue        0\n",
      "sus_label          0\n",
      "dtype: int64\n"
     ]
    }
   ],
   "source": [
    "print(val_df.isnull().sum())"
   ]
  },
  {
   "cell_type": "code",
   "execution_count": 8,
   "id": "d3550a5f-d882-4911-879a-e0c2854f80ff",
   "metadata": {
    "executionCancelledAt": null,
    "executionTime": 48,
    "lastExecutedAt": 1742492691747,
    "lastExecutedByKernel": "1f9d879d-0424-42f5-871a-5cecd8cad653",
    "lastScheduledRunId": null,
    "lastSuccessfullyExecutedCode": "y_train = train_df['sus_label']\n",
    "outputsMetadata": {
     "0": {
      "height": 50,
      "tableState": {
       "quickFilterText": ""
      },
      "type": "dataFrame"
     }
    }
   },
   "outputs": [],
   "source": [
    "y_train = train_df['sus_label']\n"
   ]
  },
  {
   "cell_type": "code",
   "execution_count": 9,
   "id": "67e50337-57fe-4a96-beae-ac67f739c162",
   "metadata": {
    "collapsed": false,
    "executionCancelledAt": null,
    "executionTime": 56,
    "jupyter": {
     "outputs_hidden": false,
     "source_hidden": false
    },
    "lastExecutedAt": 1742492691803,
    "lastExecutedByKernel": "1f9d879d-0424-42f5-871a-5cecd8cad653",
    "lastScheduledRunId": null,
    "lastSuccessfullyExecutedCode": "X_train = train_df.drop(['sus_label'], axis= 1)"
   },
   "outputs": [],
   "source": [
    "X_train = train_df.drop(['sus_label'], axis= 1)"
   ]
  },
  {
   "cell_type": "code",
   "execution_count": 10,
   "id": "de6401b3-7c3b-48cb-bcc8-70bd7d82013e",
   "metadata": {
    "executionCancelledAt": null,
    "executionTime": 60,
    "lastExecutedAt": 1742492691863,
    "lastExecutedByKernel": "1f9d879d-0424-42f5-871a-5cecd8cad653",
    "lastScheduledRunId": null,
    "lastSuccessfullyExecutedCode": "X_train.head(5)",
    "outputsMetadata": {
     "0": {
      "height": 245,
      "tableState": {
       "customFilter": {
        "const": {
         "type": "boolean",
         "valid": true,
         "value": true
        },
        "id": "77d79bae-56be-4115-a1cd-3a837a7159b4",
        "nodeType": "const"
       },
       "quickFilterText": ""
      },
      "type": "dataFrame"
     }
    }
   },
   "outputs": [
    {
     "data": {
      "text/html": [
       "<div>\n",
       "<style scoped>\n",
       "    .dataframe tbody tr th:only-of-type {\n",
       "        vertical-align: middle;\n",
       "    }\n",
       "\n",
       "    .dataframe tbody tr th {\n",
       "        vertical-align: top;\n",
       "    }\n",
       "\n",
       "    .dataframe thead th {\n",
       "        text-align: right;\n",
       "    }\n",
       "</style>\n",
       "<table border=\"1\" class=\"dataframe\">\n",
       "  <thead>\n",
       "    <tr style=\"text-align: right;\">\n",
       "      <th></th>\n",
       "      <th>processId</th>\n",
       "      <th>threadId</th>\n",
       "      <th>parentProcessId</th>\n",
       "      <th>userId</th>\n",
       "      <th>mountNamespace</th>\n",
       "      <th>argsNum</th>\n",
       "      <th>returnValue</th>\n",
       "    </tr>\n",
       "  </thead>\n",
       "  <tbody>\n",
       "    <tr>\n",
       "      <th>0</th>\n",
       "      <td>381</td>\n",
       "      <td>7337</td>\n",
       "      <td>1</td>\n",
       "      <td>100</td>\n",
       "      <td>4026532231</td>\n",
       "      <td>5</td>\n",
       "      <td>0</td>\n",
       "    </tr>\n",
       "    <tr>\n",
       "      <th>1</th>\n",
       "      <td>381</td>\n",
       "      <td>7337</td>\n",
       "      <td>1</td>\n",
       "      <td>100</td>\n",
       "      <td>4026532231</td>\n",
       "      <td>1</td>\n",
       "      <td>0</td>\n",
       "    </tr>\n",
       "    <tr>\n",
       "      <th>2</th>\n",
       "      <td>381</td>\n",
       "      <td>7337</td>\n",
       "      <td>1</td>\n",
       "      <td>100</td>\n",
       "      <td>4026532231</td>\n",
       "      <td>0</td>\n",
       "      <td>0</td>\n",
       "    </tr>\n",
       "    <tr>\n",
       "      <th>3</th>\n",
       "      <td>7347</td>\n",
       "      <td>7347</td>\n",
       "      <td>7341</td>\n",
       "      <td>0</td>\n",
       "      <td>4026531840</td>\n",
       "      <td>2</td>\n",
       "      <td>-2</td>\n",
       "    </tr>\n",
       "    <tr>\n",
       "      <th>4</th>\n",
       "      <td>7347</td>\n",
       "      <td>7347</td>\n",
       "      <td>7341</td>\n",
       "      <td>0</td>\n",
       "      <td>4026531840</td>\n",
       "      <td>4</td>\n",
       "      <td>0</td>\n",
       "    </tr>\n",
       "  </tbody>\n",
       "</table>\n",
       "</div>"
      ],
      "text/plain": [
       "   processId  threadId  parentProcessId  userId  mountNamespace  argsNum  \\\n",
       "0        381      7337                1     100      4026532231        5   \n",
       "1        381      7337                1     100      4026532231        1   \n",
       "2        381      7337                1     100      4026532231        0   \n",
       "3       7347      7347             7341       0      4026531840        2   \n",
       "4       7347      7347             7341       0      4026531840        4   \n",
       "\n",
       "   returnValue  \n",
       "0            0  \n",
       "1            0  \n",
       "2            0  \n",
       "3           -2  \n",
       "4            0  "
      ]
     },
     "execution_count": 10,
     "metadata": {},
     "output_type": "execute_result"
    }
   ],
   "source": [
    "X_train.head(5)"
   ]
  },
  {
   "cell_type": "code",
   "execution_count": 11,
   "id": "b021ae7e-e7fb-4a34-8b47-f601c9c6ac21",
   "metadata": {
    "executionCancelledAt": null,
    "executionTime": 53,
    "lastExecutedAt": 1742492691916,
    "lastExecutedByKernel": "1f9d879d-0424-42f5-871a-5cecd8cad653",
    "lastScheduledRunId": null,
    "lastSuccessfullyExecutedCode": "X_train = X_train.to_numpy()"
   },
   "outputs": [],
   "source": [
    "X_train = X_train.to_numpy()"
   ]
  },
  {
   "cell_type": "code",
   "execution_count": 12,
   "id": "c3fa2da1-4ca1-4af6-8075-22a68eab755f",
   "metadata": {
    "executionCancelledAt": null,
    "executionTime": 46,
    "lastExecutedAt": 1742492691963,
    "lastExecutedByKernel": "1f9d879d-0424-42f5-871a-5cecd8cad653",
    "lastScheduledRunId": null,
    "lastSuccessfullyExecutedCode": "scaler = StandardScaler()"
   },
   "outputs": [],
   "source": [
    "scaler = StandardScaler()"
   ]
  },
  {
   "cell_type": "code",
   "execution_count": 13,
   "id": "40845d07-8387-4eda-b340-0d6c21e41e96",
   "metadata": {
    "executionCancelledAt": null,
    "executionTime": 52,
    "lastExecutedAt": 1742492692016,
    "lastExecutedByKernel": "1f9d879d-0424-42f5-871a-5cecd8cad653",
    "lastScheduledRunId": null,
    "lastSuccessfullyExecutedCode": "X_train_scaled = scaler.fit_transform(X_train)"
   },
   "outputs": [],
   "source": [
    "X_train_scaled = scaler.fit_transform(X_train)"
   ]
  },
  {
   "cell_type": "code",
   "execution_count": 14,
   "id": "93eeea00-e173-4f06-8f31-066b61164548",
   "metadata": {
    "executionCancelledAt": null,
    "executionTime": 50,
    "lastExecutedAt": 1742492692067,
    "lastExecutedByKernel": "1f9d879d-0424-42f5-871a-5cecd8cad653",
    "lastScheduledRunId": null,
    "lastSuccessfullyExecutedCode": "y_train = y_train.to_numpy()"
   },
   "outputs": [],
   "source": [
    "y_train = y_train.to_numpy()"
   ]
  },
  {
   "cell_type": "code",
   "execution_count": 15,
   "id": "5807a268-5fc7-4268-ab08-5883f8233f10",
   "metadata": {
    "executionCancelledAt": null,
    "executionTime": 51,
    "lastExecutedAt": 1742492692119,
    "lastExecutedByKernel": "1f9d879d-0424-42f5-871a-5cecd8cad653",
    "lastScheduledRunId": null,
    "lastSuccessfullyExecutedCode": "y_train.shape"
   },
   "outputs": [
    {
     "data": {
      "text/plain": [
       "(763144,)"
      ]
     },
     "execution_count": 15,
     "metadata": {},
     "output_type": "execute_result"
    }
   ],
   "source": [
    "y_train.shape"
   ]
  },
  {
   "cell_type": "code",
   "execution_count": 16,
   "id": "4c176aa2-41e7-4412-ae1e-593f72440e05",
   "metadata": {
    "executionCancelledAt": null,
    "executionTime": 48,
    "lastExecutedAt": 1742492692167,
    "lastExecutedByKernel": "1f9d879d-0424-42f5-871a-5cecd8cad653",
    "lastScheduledRunId": null,
    "lastSuccessfullyExecutedCode": "y_train = torch.tensor(y_train)"
   },
   "outputs": [],
   "source": [
    "y_train = torch.tensor(y_train)"
   ]
  },
  {
   "cell_type": "code",
   "execution_count": 17,
   "id": "bbc86f4d-3d76-4588-ab10-bcb96fe29944",
   "metadata": {
    "executionCancelledAt": null,
    "executionTime": 48,
    "lastExecutedAt": 1742492692215,
    "lastExecutedByKernel": "1f9d879d-0424-42f5-871a-5cecd8cad653",
    "lastScheduledRunId": null,
    "lastSuccessfullyExecutedCode": "y_val = val_df['sus_label']"
   },
   "outputs": [],
   "source": [
    "y_val = val_df['sus_label']"
   ]
  },
  {
   "cell_type": "code",
   "execution_count": 18,
   "id": "b91993e7-1327-429f-a2cb-1d1f7d9e211d",
   "metadata": {
    "collapsed": false,
    "executionCancelledAt": null,
    "executionTime": 52,
    "jupyter": {
     "outputs_hidden": false,
     "source_hidden": false
    },
    "lastExecutedAt": 1742492692267,
    "lastExecutedByKernel": "1f9d879d-0424-42f5-871a-5cecd8cad653",
    "lastScheduledRunId": null,
    "lastSuccessfullyExecutedCode": "X_val = val_df.drop(['sus_label'], axis= 1)"
   },
   "outputs": [],
   "source": [
    "X_val = val_df.drop(['sus_label'], axis= 1)"
   ]
  },
  {
   "cell_type": "code",
   "execution_count": 19,
   "id": "0f652688-6782-41b5-af99-b8e859baf8a4",
   "metadata": {
    "executionCancelledAt": null,
    "executionTime": 48,
    "lastExecutedAt": 1742492692315,
    "lastExecutedByKernel": "1f9d879d-0424-42f5-871a-5cecd8cad653",
    "lastScheduledRunId": null,
    "lastSuccessfullyExecutedCode": "X_val = X_val.to_numpy()"
   },
   "outputs": [],
   "source": [
    "X_val = X_val.to_numpy()"
   ]
  },
  {
   "cell_type": "code",
   "execution_count": 20,
   "id": "6e48142a-d4c2-482c-9ff9-589f40994864",
   "metadata": {
    "executionCancelledAt": null,
    "executionTime": 52,
    "lastExecutedAt": 1742492692368,
    "lastExecutedByKernel": "1f9d879d-0424-42f5-871a-5cecd8cad653",
    "lastScheduledRunId": null,
    "lastSuccessfullyExecutedCode": "X_val_scaled = scaler.transform(X_val)"
   },
   "outputs": [],
   "source": [
    "X_val_scaled = scaler.transform(X_val)"
   ]
  },
  {
   "cell_type": "code",
   "execution_count": 21,
   "id": "4defed40-8c62-44ca-8e8c-4bf60a0966e0",
   "metadata": {
    "executionCancelledAt": null,
    "executionTime": 47,
    "lastExecutedAt": 1742492692415,
    "lastExecutedByKernel": "1f9d879d-0424-42f5-871a-5cecd8cad653",
    "lastScheduledRunId": null,
    "lastSuccessfullyExecutedCode": "y_val = y_val.to_numpy()"
   },
   "outputs": [],
   "source": [
    "y_val = y_val.to_numpy()"
   ]
  },
  {
   "cell_type": "code",
   "execution_count": 22,
   "id": "19bec4f4",
   "metadata": {},
   "outputs": [],
   "source": [
    "y_val = torch.tensor(y_val)"
   ]
  },
  {
   "cell_type": "code",
   "execution_count": 23,
   "id": "3bbd4198",
   "metadata": {},
   "outputs": [],
   "source": [
    "y_test = test_df['sus_label']"
   ]
  },
  {
   "cell_type": "code",
   "execution_count": 24,
   "id": "76fd72da",
   "metadata": {},
   "outputs": [],
   "source": [
    "y_test = y_test.to_numpy()"
   ]
  },
  {
   "cell_type": "code",
   "execution_count": 25,
   "id": "5e07b263",
   "metadata": {},
   "outputs": [],
   "source": [
    "y_test = torch.tensor(y_test)"
   ]
  },
  {
   "cell_type": "code",
   "execution_count": 26,
   "id": "946b4e63",
   "metadata": {},
   "outputs": [
    {
     "data": {
      "text/plain": [
       "torch.Size([188967])"
      ]
     },
     "execution_count": 26,
     "metadata": {},
     "output_type": "execute_result"
    }
   ],
   "source": [
    "y_test.shape"
   ]
  },
  {
   "cell_type": "code",
   "execution_count": 27,
   "id": "c5fb6b6e",
   "metadata": {},
   "outputs": [
    {
     "data": {
      "text/plain": [
       "torch.Size([188967])"
      ]
     },
     "execution_count": 27,
     "metadata": {},
     "output_type": "execute_result"
    }
   ],
   "source": [
    "y_val.shape"
   ]
  },
  {
   "cell_type": "code",
   "execution_count": 28,
   "id": "242bb702",
   "metadata": {},
   "outputs": [],
   "source": [
    "X_test = test_df.drop(['sus_label'], axis= 1)"
   ]
  },
  {
   "cell_type": "code",
   "execution_count": 29,
   "id": "39e8bcc8",
   "metadata": {},
   "outputs": [],
   "source": [
    "X_test = X_test.to_numpy()"
   ]
  },
  {
   "cell_type": "code",
   "execution_count": 30,
   "id": "372669b7",
   "metadata": {},
   "outputs": [],
   "source": [
    "X_test_scaled = scaler.transform(X_test)"
   ]
  },
  {
   "cell_type": "code",
   "execution_count": 31,
   "id": "f32677ba",
   "metadata": {},
   "outputs": [
    {
     "data": {
      "text/plain": [
       "(188967, 7)"
      ]
     },
     "execution_count": 31,
     "metadata": {},
     "output_type": "execute_result"
    }
   ],
   "source": [
    "X_test_scaled.shape"
   ]
  },
  {
   "cell_type": "code",
   "execution_count": 32,
   "id": "9d122906",
   "metadata": {},
   "outputs": [
    {
     "data": {
      "text/plain": [
       "array([-3.30076588, -3.3237183 , -0.84909243,  2.63843038,  1.79005541,\n",
       "        0.24455003, -0.00791259])"
      ]
     },
     "execution_count": 32,
     "metadata": {},
     "output_type": "execute_result"
    }
   ],
   "source": [
    "X_test_scaled[0]"
   ]
  },
  {
   "cell_type": "code",
   "execution_count": 33,
   "id": "4a1c88ff",
   "metadata": {},
   "outputs": [
    {
     "data": {
      "text/plain": [
       "tensor(0)"
      ]
     },
     "execution_count": 33,
     "metadata": {},
     "output_type": "execute_result"
    }
   ],
   "source": [
    "y_test[0]"
   ]
  },
  {
   "cell_type": "code",
   "execution_count": 31,
   "id": "f3987e54-9bda-4bb9-b409-140dfc8b78da",
   "metadata": {
    "executionCancelledAt": null,
    "executionTime": 52,
    "lastExecutedAt": 1742492692467,
    "lastExecutedByKernel": "1f9d879d-0424-42f5-871a-5cecd8cad653",
    "lastScheduledRunId": null,
    "lastSuccessfullyExecutedCode": "train_dataset = TensorDataset(torch.tensor(X_train_scaled).float(),y_train)"
   },
   "outputs": [],
   "source": [
    "train_dataset = TensorDataset(torch.tensor(X_train_scaled).float(),y_train)"
   ]
  },
  {
   "cell_type": "code",
   "execution_count": 32,
   "id": "cda68da7",
   "metadata": {},
   "outputs": [
    {
     "data": {
      "text/plain": [
       "torch.Size([763144])"
      ]
     },
     "execution_count": 32,
     "metadata": {},
     "output_type": "execute_result"
    }
   ],
   "source": [
    "y_train.shape"
   ]
  },
  {
   "cell_type": "code",
   "execution_count": 33,
   "id": "63ce7b25-4a59-49ca-9f2d-96ae1b00a8ae",
   "metadata": {
    "executionCancelledAt": null,
    "executionTime": 51,
    "lastExecutedAt": 1742492692519,
    "lastExecutedByKernel": "1f9d879d-0424-42f5-871a-5cecd8cad653",
    "lastScheduledRunId": null,
    "lastSuccessfullyExecutedCode": "input_sample, label_sample = train_dataset[0]\nprint('input sample', input_sample.shape)\nprint('label_sample', label_sample.unsqueeze(0))",
    "outputsMetadata": {
     "0": {
      "height": 59,
      "type": "stream"
     }
    }
   },
   "outputs": [
    {
     "name": "stdout",
     "output_type": "stream",
     "text": [
      "input sample torch.Size([7])\n",
      "label_sample torch.Size([])\n"
     ]
    }
   ],
   "source": [
    "input_sample, label_sample = train_dataset[0]\n",
    "print('input sample', input_sample.shape)\n",
    "print('label_sample', label_sample.shape)"
   ]
  },
  {
   "cell_type": "code",
   "execution_count": 34,
   "id": "af420ac5-4521-4c97-8bba-6987be2b69c7",
   "metadata": {
    "executionCancelledAt": null,
    "executionTime": 56,
    "lastExecutedAt": 1742492692576,
    "lastExecutedByKernel": "1f9d879d-0424-42f5-871a-5cecd8cad653",
    "lastScheduledRunId": null,
    "lastSuccessfullyExecutedCode": "val_dataset = TensorDataset(torch.tensor(X_val_scaled).float(), torch.tensor(y_val).float())"
   },
   "outputs": [],
   "source": [
    "val_dataset = TensorDataset(torch.tensor(X_val_scaled).float(), y_val)"
   ]
  },
  {
   "cell_type": "code",
   "execution_count": 35,
   "id": "d16aa2a8",
   "metadata": {},
   "outputs": [],
   "source": [
    "test_dataset = TensorDataset(torch.tensor(X_test_scaled).float(),y_test)"
   ]
  },
  {
   "cell_type": "code",
   "execution_count": 36,
   "id": "20e195b2-6907-47af-a417-76add6558907",
   "metadata": {
    "executionCancelledAt": null,
    "executionTime": 47,
    "lastExecutedAt": 1742492692623,
    "lastExecutedByKernel": "1f9d879d-0424-42f5-871a-5cecd8cad653",
    "lastScheduledRunId": null,
    "lastSuccessfullyExecutedCode": "batch_size = 128\nshuffle = True\n\ntrainloader = DataLoader(train_dataset, batch_size=batch_size, shuffle= shuffle)"
   },
   "outputs": [],
   "source": [
    "batch_size = 64\n",
    "shuffle = True\n",
    "\n",
    "trainloader = DataLoader(train_dataset, batch_size=batch_size, shuffle= shuffle)"
   ]
  },
  {
   "cell_type": "code",
   "execution_count": 37,
   "id": "45050daa-177c-433e-8a19-c82f40a2b5ba",
   "metadata": {
    "executionCancelledAt": null,
    "executionTime": 52,
    "lastExecutedAt": 1742492692675,
    "lastExecutedByKernel": "1f9d879d-0424-42f5-871a-5cecd8cad653",
    "lastScheduledRunId": null,
    "lastSuccessfullyExecutedCode": "validationloader = DataLoader(val_dataset, batch_size=batch_size, shuffle= shuffle)"
   },
   "outputs": [],
   "source": [
    "validationloader = DataLoader(val_dataset, batch_size=batch_size, shuffle= shuffle)"
   ]
  },
  {
   "cell_type": "code",
   "execution_count": 38,
   "id": "259f8bd8",
   "metadata": {},
   "outputs": [],
   "source": [
    "testloader = DataLoader(test_dataset, batch_size=batch_size, shuffle= shuffle)"
   ]
  },
  {
   "cell_type": "code",
   "execution_count": 39,
   "id": "9bb54798",
   "metadata": {},
   "outputs": [
    {
     "data": {
      "text/plain": [
       "7"
      ]
     },
     "execution_count": 39,
     "metadata": {},
     "output_type": "execute_result"
    }
   ],
   "source": [
    "X_train.shape[1]"
   ]
  },
  {
   "cell_type": "code",
   "execution_count": 40,
   "id": "a1b1c8b0",
   "metadata": {},
   "outputs": [],
   "source": [
    "class ThreatDetectionModel(nn.Module):\n",
    "    def __init__(self):\n",
    "        super(ThreatDetectionModel, self).__init__()\n",
    "        self.model = nn.Sequential(\n",
    "            nn.Linear(7, 128),  # First fully connected layer\n",
    "            nn.ReLU(),  # ReLU activation\n",
    "            nn.Linear(128, 64),  # Second fully connected layer\n",
    "            nn.ReLU(),  # ReLU activation\n",
    "            nn.Linear(64, 1),  # Third fully connected layer\n",
    "            nn.Sigmoid()  # Sigmoid activation for binary classification\n",
    "    )\n",
    "\n",
    "    def forward(self, x):\n",
    "        return self.model(x)"
   ]
  },
  {
   "cell_type": "code",
   "execution_count": 41,
   "id": "0e647510-64d8-46b3-a32a-260672576f84",
   "metadata": {
    "executionCancelledAt": null,
    "executionTime": 53,
    "lastExecutedAt": 1742492692780,
    "lastExecutedByKernel": "1f9d879d-0424-42f5-871a-5cecd8cad653",
    "lastScheduledRunId": null,
    "lastSuccessfullyExecutedCode": "model"
   },
   "outputs": [
    {
     "name": "stdout",
     "output_type": "stream",
     "text": [
      "Using device: cpu\n"
     ]
    },
    {
     "data": {
      "text/plain": [
       "ThreatDetectionModel(\n",
       "  (model): Sequential(\n",
       "    (0): Linear(in_features=7, out_features=128, bias=True)\n",
       "    (1): ReLU()\n",
       "    (2): Linear(in_features=128, out_features=64, bias=True)\n",
       "    (3): ReLU()\n",
       "    (4): Linear(in_features=64, out_features=1, bias=True)\n",
       "    (5): Sigmoid()\n",
       "  )\n",
       ")"
      ]
     },
     "execution_count": 41,
     "metadata": {},
     "output_type": "execute_result"
    }
   ],
   "source": [
    "model = ThreatDetectionModel()\n",
    "\n",
    "device = torch.device(\"cuda\" if torch.cuda.is_available() else \"cpu\")\n",
    "print(f\"Using device: {device}\")\n",
    "\n",
    "model.to(device)  # Move model to GPU (if available)"
   ]
  },
  {
   "cell_type": "code",
   "execution_count": 42,
   "id": "505ec224-4d71-4522-b252-eb99c5bbe34e",
   "metadata": {
    "executionCancelledAt": null,
    "executionTime": 48,
    "lastExecutedAt": 1742492692828,
    "lastExecutedByKernel": "1f9d879d-0424-42f5-871a-5cecd8cad653",
    "lastScheduledRunId": null,
    "lastSuccessfullyExecutedCode": "total = 0\nfor parameter in model.parameters():\n    total += parameter.numel()\nprint(total)"
   },
   "outputs": [
    {
     "name": "stdout",
     "output_type": "stream",
     "text": [
      "9345\n"
     ]
    }
   ],
   "source": [
    "total = 0\n",
    "for parameter in model.parameters():\n",
    "    total += parameter.numel()\n",
    "print(total)"
   ]
  },
  {
   "cell_type": "code",
   "execution_count": 43,
   "id": "e6c50dc2-aee5-4291-a94f-9bcce06d9047",
   "metadata": {
    "executionCancelledAt": null,
    "executionTime": 51,
    "lastExecutedAt": 1742492692879,
    "lastExecutedByKernel": "1f9d879d-0424-42f5-871a-5cecd8cad653",
    "lastScheduledRunId": null,
    "lastSuccessfullyExecutedCode": "criterion = nn.CrossEntropyLoss()\noptimizer = optim.SGD(model.parameters(), lr=1e-3, weight_decay=1e-4)\n"
   },
   "outputs": [],
   "source": [
    "criterion = nn.BCELoss()\n",
    "optimizer = optim.SGD(model.parameters(), lr=1e-3, weight_decay=1e-4)\n"
   ]
  },
  {
   "cell_type": "code",
   "execution_count": 44,
   "id": "77b63040-b996-4e8c-9c5e-16e07a216aa3",
   "metadata": {
    "executionCancelledAt": null,
    "executionTime": 48,
    "lastExecutedAt": 1742492692927,
    "lastExecutedByKernel": "1f9d879d-0424-42f5-871a-5cecd8cad653",
    "lastScheduledRunId": null,
    "lastSuccessfullyExecutedCode": "import torchmetrics\n\nmetric = torchmetrics.Accuracy(task= \"binary\", num_classes=2)"
   },
   "outputs": [],
   "source": [
    "import torchmetrics\n",
    "\n",
    "metric = torchmetrics.Accuracy(task= \"binary\", num_classes=2)"
   ]
  },
  {
   "cell_type": "code",
   "execution_count": null,
   "id": "2faaea6d-d127-4bd2-b424-e283db4cdea7",
   "metadata": {
    "collapsed": false,
    "executionCancelledAt": null,
    "executionTime": 171339,
    "jupyter": {
     "outputs_hidden": false,
     "source_hidden": false
    },
    "lastExecutedAt": 1742492864266,
    "lastExecutedByKernel": "1f9d879d-0424-42f5-871a-5cecd8cad653",
    "lastScheduledRunId": null,
    "lastSuccessfullyExecutedCode": "training_loss = 0.0\nfor epoch in range(10):\n    for data in trainloader:\n        # Set the gradients to zero\n        optimizer.zero_grad()\n        # Get feature and target from the data loader\n        feature, target = data\n        # Run a forward pass\n        pred = model(feature)\n\n        # Update metric with predictions and targets\n        metric.update(pred.argmax(dim=-1), target)\n        # Compute loss and gradients\n        loss = criterion(pred, target)\n        loss.backward()\n        # Update the parameters\n        optimizer.step()\n        optimizer.zero_grad() # Reset gradients\n\n        training_loss += loss.item()\n    \nepoch_loss = training_loss / len(trainloader)\naccuracy = metric.compute()\nprint(f\"Accuracy on all training data: {accuracy}\")\nmetric.reset()"
   },
   "outputs": [
    {
     "name": "stdout",
     "output_type": "stream",
     "text": [
      "Epoch 1, Training Loss: 0.0120, Accuracy: 0.9995\n",
      "Epoch 2, Training Loss: 0.0033, Accuracy: 0.9996\n",
      "Epoch 3, Training Loss: 0.0031, Accuracy: 0.9996\n",
      "Epoch 4, Training Loss: 0.0030, Accuracy: 0.9996\n",
      "Epoch 5, Training Loss: 0.0029, Accuracy: 0.9996\n",
      "Epoch 6, Training Loss: 0.0029, Accuracy: 0.9996\n",
      "Epoch 7, Training Loss: 0.0028, Accuracy: 0.9996\n",
      "Epoch 8, Training Loss: 0.0028, Accuracy: 0.9996\n",
      "Epoch 9, Training Loss: 0.0027, Accuracy: 0.9996\n",
      "Epoch 10, Training Loss: 0.0027, Accuracy: 0.9996\n"
     ]
    }
   ],
   "source": [
    "# Initialize the optimizer\n",
    "optimizer = optim.SGD(model.parameters(), lr=1e-3, weight_decay=1e-4, momentum=0.9)\n",
    "\n",
    "\n",
    "\n",
    "# Train the model\n",
    "train_loss = []\n",
    "for epoch in range(10):\n",
    "    training_loss = 0.0  # Reset loss at the start of each epoch\n",
    "    model.train()  # Set the model to training mode\n",
    "\n",
    "    for data in trainloader:\n",
    "        # Get feature and target from the data loader\n",
    "        feature, target = data\n",
    "        target = target.unsqueeze(1).float()\n",
    "        \n",
    "        # Reset gradients\n",
    "        optimizer.zero_grad()\n",
    "        \n",
    "        # Run a forward pass\n",
    "        pred = model(feature)\n",
    "        \n",
    "        # Compute loss\n",
    "        loss = criterion(pred, target)\n",
    "        \n",
    "        # Backpropagation\n",
    "        loss.backward()\n",
    "        \n",
    "        # Update the parameters\n",
    "        optimizer.step()\n",
    "        \n",
    "        # Accumulate training loss\n",
    "        training_loss += loss.item()\n",
    "        \n",
    "        # Update metric with predictions and targets\n",
    "        metric.update(pred, target)\n",
    "\n",
    "    # Compute average loss for the epoch\n",
    "    epoch_loss = training_loss / len(trainloader)\n",
    "    train_loss.append(epoch_loss)\n",
    "    \n",
    "    # Update the scheduler based on the validation loss (or training loss)\n",
    "    # scheduler.step(epoch_loss)  # You can change this to validation_loss if needed\n",
    "    \n",
    "    # Calculate accuracy\n",
    "    accuracy = metric.compute()\n",
    "    print(f\"Epoch {epoch+1}, Training Loss: {epoch_loss:.4f}, Accuracy: {accuracy:.4f}\")\n",
    "    \n",
    "    # Reset metric for the next epoch\n",
    "    metric.reset()"
   ]
  },
  {
   "cell_type": "code",
   "execution_count": 46,
   "id": "4bb77993-5e3a-4949-b4fd-d99930618e40",
   "metadata": {
    "executionCancelledAt": 1742492864264
   },
   "outputs": [
    {
     "name": "stdout",
     "output_type": "stream",
     "text": [
      "Epoch 1, Validation Loss: 0.0005, Accuracy: 1.0000\n",
      "Epoch 2, Validation Loss: 0.0005, Accuracy: 1.0000\n",
      "Epoch 3, Validation Loss: 0.0005, Accuracy: 1.0000\n",
      "Epoch 4, Validation Loss: 0.0005, Accuracy: 1.0000\n",
      "Epoch 5, Validation Loss: 0.0005, Accuracy: 1.0000\n",
      "Epoch 6, Validation Loss: 0.0005, Accuracy: 1.0000\n",
      "Epoch 7, Validation Loss: 0.0005, Accuracy: 1.0000\n",
      "Epoch 8, Validation Loss: 0.0005, Accuracy: 1.0000\n",
      "Epoch 9, Validation Loss: 0.0005, Accuracy: 1.0000\n",
      "Epoch 10, Validation Loss: 0.0005, Accuracy: 1.0000\n"
     ]
    }
   ],
   "source": [
    "val_loss = []\n",
    "model.eval()\n",
    "for epoch in range(10):\n",
    "    validation_loss = 0.0  # Reset loss for each epoch\n",
    "    \n",
    "    with torch.no_grad():  # Disable gradient computation\n",
    "        for data in validationloader:\n",
    "            # Get feature and target from the data loader\n",
    "            feature, target = data\n",
    "            target = target.unsqueeze(1).float()\n",
    "\n",
    "            # Run a forward pass\n",
    "            pred = model(feature)\n",
    "\n",
    "            # Compute loss\n",
    "            loss = criterion(pred, target)\n",
    "            validation_loss += loss.item()\n",
    "\n",
    "            # Update metric with predictions and targets\n",
    "            metric.update(pred, target)\n",
    "\n",
    "    # Compute average loss for the epoch\n",
    "    epoch_loss = validation_loss / len(validationloader)\n",
    "    val_loss.append(epoch_loss)\n",
    "    accuracy = metric.compute()\n",
    "\n",
    "    print(f\"Epoch {epoch+1}, Validation Loss: {epoch_loss:.4f}, Accuracy: {accuracy:.4f}\")\n",
    "\n",
    "    # Reset metric after each epoch\n",
    "    metric.reset()"
   ]
  },
  {
   "cell_type": "code",
   "execution_count": 48,
   "id": "b2e436a8-1732-4553-9ad3-ef2f52a8b1fb",
   "metadata": {
    "executionCancelledAt": 1742492864265
   },
   "outputs": [
    {
     "name": "stdout",
     "output_type": "stream",
     "text": [
      "Accuracy: 0.9448\n"
     ]
    }
   ],
   "source": [
    "test_loss = 0.0  # Reset loss for each epoch\n",
    "\n",
    "with torch.no_grad():  # Disable gradient computation\n",
    "    for test_data in testloader:\n",
    "        # Get feature and target from the data loader\n",
    "        feature, target = test_data\n",
    "        target = target.unsqueeze(1).float()\n",
    "        # Run a forward pass\n",
    "        pred = model(feature)\n",
    "\n",
    "        # Compute loss\n",
    "        loss = criterion(pred, target)\n",
    "        test_loss += loss.item()\n",
    "\n",
    "        # Update metric with predictions and targets\n",
    "        metric.update(pred, target)\n",
    "\n",
    "\n",
    "accuracy = metric.compute()\n",
    "\n",
    "print(f'Accuracy: {accuracy:.4f}')  \n",
    "\n",
    "metric.reset()"
   ]
  },
  {
   "cell_type": "code",
   "execution_count": null,
   "id": "63e1a221",
   "metadata": {},
   "outputs": [],
   "source": [
    "# save model \n",
    "torch.save(model.state_dict(), 'models/model.pth')"
   ]
  }
 ],
 "metadata": {
  "colab": {
   "name": "Welcome to DataCamp Workspaces.ipynb",
   "provenance": []
  },
  "editor": "DataLab",
  "kernelspec": {
   "display_name": "venv",
   "language": "python",
   "name": "python3"
  },
  "language_info": {
   "codemirror_mode": {
    "name": "ipython",
    "version": 3
   },
   "file_extension": ".py",
   "mimetype": "text/x-python",
   "name": "python",
   "nbconvert_exporter": "python",
   "pygments_lexer": "ipython3",
   "version": "3.9.6"
  }
 },
 "nbformat": 4,
 "nbformat_minor": 5
}
